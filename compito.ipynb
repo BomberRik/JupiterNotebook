{
 "cells": [
  {
   "cell_type": "code",
   "execution_count": 9,
   "id": "ed7cc22f",
   "metadata": {},
   "outputs": [
    {
     "name": "stdout",
     "output_type": "stream",
     "text": [
      "Inserire un numero5\n",
      "1\n",
      "2\n",
      "3\n",
      "4\n",
      "5\n"
     ]
    }
   ],
   "source": [
    "n = int(input(\"Inserire un numero\"))\n",
    "for numero in range(1, n+1):\n",
    "    print(numero)\n"
   ]
  },
  {
   "cell_type": "code",
   "execution_count": 10,
   "id": "df010a36",
   "metadata": {},
   "outputs": [
    {
     "name": "stdout",
     "output_type": "stream",
     "text": [
      "inserisci un numero intero positivo: 7\n",
      "quadrati di primi 7 numeri:\n",
      "il quadrato di 1 é 1\n",
      "il quadrato di 2 é 4\n",
      "il quadrato di 3 é 9\n",
      "il quadrato di 4 é 16\n",
      "il quadrato di 5 é 25\n",
      "il quadrato di 6 é 36\n",
      "il quadrato di 7 é 49\n"
     ]
    }
   ],
   "source": [
    "n = int(input(\"inserisci un numero intero positivo: \"))\n",
    "print(\"quadrati di primi\", n, \"numeri:\")\n",
    "\n",
    "for numero in range(1, n + 1):\n",
    "    quadrato = numero ** 2\n",
    "    print(\"il quadrato di\", numero, \"é\", quadrato)\n"
   ]
  },
  {
   "cell_type": "code",
   "execution_count": 11,
   "id": "a801bae4",
   "metadata": {},
   "outputs": [
    {
     "name": "stdout",
     "output_type": "stream",
     "text": [
      "inserisci un numero positivo 8\n",
      "il fattoriale di 7 é 5040\n"
     ]
    }
   ],
   "source": [
    "numero = int(input(\"inserisci un numero positivo \"))\n",
    "fattoriale = 1\n",
    "\n",
    "for numero in range(1, n + 1):\n",
    "    fattoriale *= numero\n",
    "\n",
    "print(\"il fattoriale di\", n, \"é\", fattoriale)\n"
   ]
  },
  {
   "cell_type": "code",
   "execution_count": 18,
   "id": "2a07b867",
   "metadata": {},
   "outputs": [
    {
     "name": "stdout",
     "output_type": "stream",
     "text": [
      "quanti numeri vuoi inserire? 5\n",
      "inserisci un numero 2\n",
      "inserisci un numero 3\n",
      "inserisci un numero 4\n",
      "inserisci un numero 6\n",
      "inserisci un numero 7\n",
      "la media dei numeri inseriti é 4.4\n"
     ]
    }
   ],
   "source": [
    "n = int(input(\"quanti numeri vuoi inserire? \"))\n",
    "numeri = []\n",
    "for i in range(n):\n",
    "    numero = float(input(\"inserisci un numero \"))\n",
    "    numeri.append(numero)\n",
    "media = sum(numeri) / len(numeri)\n",
    "print(\"la media dei numeri inseriti é\", media)\n"
   ]
  },
  {
   "cell_type": "code",
   "execution_count": 19,
   "id": "59ba2468",
   "metadata": {},
   "outputs": [
    {
     "name": "stdout",
     "output_type": "stream",
     "text": [
      "Tenta di indovinare il numero (tra 1 e 100): 50\n",
      "Il numero da indovinare è più grande.\n",
      "Tenta di indovinare il numero (tra 1 e 100): 60\n",
      "Il numero da indovinare è più grande.\n",
      "Tenta di indovinare il numero (tra 1 e 100): 70\n",
      "Il numero da indovinare è più grande.\n",
      "Tenta di indovinare il numero (tra 1 e 100): 90\n",
      "Il numero da indovinare è più piccolo.\n",
      "Tenta di indovinare il numero (tra 1 e 100): 80\n",
      "Il numero da indovinare è più piccolo.\n",
      "Tenta di indovinare il numero (tra 1 e 100): 75\n",
      "Il numero da indovinare è più grande.\n",
      "Tenta di indovinare il numero (tra 1 e 100): 77\n",
      "Bravo! Hai indovinato il numero 77 in 7 tentativi.\n"
     ]
    }
   ],
   "source": [
    "import random\n",
    "\n",
    "numero_da_indovinare = random.randint(1, 100)\n",
    "tentativi = 0\n",
    "\n",
    "while True:\n",
    "    try:\n",
    "        tentativo = int(input(\"Tenta di indovinare il numero (tra 1 e 100): \"))\n",
    "    except ValueError:\n",
    "        print(\"Per favore, inserisci un numero intero.\")\n",
    "        continue\n",
    "\n",
    "    tentativi += 1\n",
    "\n",
    "    if tentativo == numero_da_indovinare:\n",
    "        print(\"Bravo! Hai indovinato il numero\", numero_da_indovinare, \"in\", tentativi, \"tentativi.\")\n",
    "        break\n",
    "    elif tentativo < numero_da_indovinare:\n",
    "        print(\"Il numero da indovinare è più grande.\")\n",
    "    else:\n",
    "        print(\"Il numero da indovinare è più piccolo.\")\n"
   ]
  },
  {
   "cell_type": "code",
   "execution_count": 23,
   "id": "0c8af3a6",
   "metadata": {},
   "outputs": [
    {
     "name": "stdout",
     "output_type": "stream",
     "text": [
      "benvenuti al gioco del morra cinese\n",
      "scegli la tua mossa (carta, forbice, sasso): forbice\n",
      "il computer ha scelto carta\n"
     ]
    }
   ],
   "source": [
    "import random\n",
    "mosse = [\"carta\", \"forbice\", \"sasso\"]\n",
    "computer_mossa = random.choice(mosse)\n",
    "print(\"benvenuti al gioco del morra cinese\")\n",
    "scelta_giocatore = input(\"scegli la tua mossa (carta, forbice, sasso): \")\n",
    "if scelta_giocatore not in mosse:\n",
    "    print(\"mossa non permessa\")\n",
    "else:\n",
    "    print(\"il computer ha scelto\", computer_mossa)\n"
   ]
  },
  {
   "cell_type": "code",
   "execution_count": 24,
   "id": "bb49f554",
   "metadata": {},
   "outputs": [
    {
     "name": "stdout",
     "output_type": "stream",
     "text": [
      "inserisci un numero intero4\n",
      "il fattoriale di 4 è 24\n"
     ]
    }
   ],
   "source": [
    "n = int(input(\"inserisci un numero intero\"))\n",
    "fattoriale = 1\n",
    "if n == 0:\n",
    "    print(\"il fattoriale di zero è 1 per definizione\")\n",
    "else:\n",
    "    for i in range(1, n + 1):\n",
    "        fattoriale *= i\n",
    "    print(f\"il fattoriale di {n} è {fattoriale}\")\n"
   ]
  },
  {
   "cell_type": "code",
   "execution_count": 25,
   "id": "7ee803a5",
   "metadata": {},
   "outputs": [
    {
     "name": "stdout",
     "output_type": "stream",
     "text": [
      "inserisci un numero intero positivo n2\n",
      "La somma dei primi 2 numeri pari è 6\n"
     ]
    }
   ],
   "source": [
    "n = int(input(\"inserisci un numero intero positivo n\"))\n",
    "somma = 0\n",
    "for numero in range(2, 2 * n + 1, 2):\n",
    "    somma += numero\n",
    "print(f\"La somma dei primi {n} numeri pari è {somma}\")\n"
   ]
  },
  {
   "cell_type": "code",
   "execution_count": 26,
   "id": "837d8157",
   "metadata": {},
   "outputs": [
    {
     "name": "stdout",
     "output_type": "stream",
     "text": [
      "inserisci un numero intero positivo n4\n",
      "La somma dei primi 4 numeri pari è 20\n"
     ]
    }
   ],
   "source": [
    "n = int(input(\"inserisci un numero intero positivo n\"))\n",
    "somma = 0\n",
    "for numero in range(2, 2 * n + 1, 2):\n",
    "    somma += numero\n",
    "print(f\"La somma dei primi {n} numeri pari è {somma}\")\n"
   ]
  },
  {
   "cell_type": "code",
   "execution_count": 28,
   "id": "dec6e9c8",
   "metadata": {},
   "outputs": [
    {
     "name": "stdout",
     "output_type": "stream",
     "text": [
      "inserisci popolazione iniziale: 10\n",
      "inserisci numero di anni da simulare: 50\n",
      "inserisci tasso natalità: 10\n",
      "inserisci tasso mortalità: 6\n",
      "Anno 1: Popolazione = 10\n",
      "Anno 2: Popolazione = 10\n",
      "Anno 3: Popolazione = 11\n",
      "Anno 4: Popolazione = 11\n",
      "Anno 5: Popolazione = 12\n",
      "Anno 6: Popolazione = 12\n",
      "Anno 7: Popolazione = 13\n",
      "Anno 8: Popolazione = 13\n",
      "Anno 9: Popolazione = 14\n",
      "Anno 10: Popolazione = 14\n",
      "Anno 11: Popolazione = 15\n",
      "Anno 12: Popolazione = 16\n",
      "Anno 13: Popolazione = 16\n",
      "Anno 14: Popolazione = 17\n",
      "Anno 15: Popolazione = 18\n",
      "Anno 16: Popolazione = 18\n",
      "Anno 17: Popolazione = 19\n",
      "Anno 18: Popolazione = 20\n",
      "Anno 19: Popolazione = 21\n",
      "Anno 20: Popolazione = 21\n",
      "Anno 21: Popolazione = 22\n",
      "Anno 22: Popolazione = 23\n",
      "Anno 23: Popolazione = 24\n",
      "Anno 24: Popolazione = 25\n",
      "Anno 25: Popolazione = 26\n",
      "Anno 26: Popolazione = 27\n",
      "Anno 27: Popolazione = 28\n",
      "Anno 28: Popolazione = 29\n",
      "Anno 29: Popolazione = 31\n",
      "Anno 30: Popolazione = 32\n",
      "Anno 31: Popolazione = 33\n",
      "Anno 32: Popolazione = 35\n",
      "Anno 33: Popolazione = 36\n",
      "Anno 34: Popolazione = 37\n",
      "Anno 35: Popolazione = 39\n",
      "Anno 36: Popolazione = 41\n",
      "Anno 37: Popolazione = 42\n",
      "Anno 38: Popolazione = 44\n",
      "Anno 39: Popolazione = 46\n",
      "Anno 40: Popolazione = 48\n",
      "Anno 41: Popolazione = 49\n",
      "Anno 42: Popolazione = 51\n",
      "Anno 43: Popolazione = 54\n",
      "Anno 44: Popolazione = 56\n",
      "Anno 45: Popolazione = 58\n",
      "Anno 46: Popolazione = 60\n",
      "Anno 47: Popolazione = 63\n",
      "Anno 48: Popolazione = 65\n",
      "Anno 49: Popolazione = 68\n",
      "Anno 50: Popolazione = 71\n"
     ]
    }
   ],
   "source": [
    "popolazione = int(input(\"inserisci popolazione iniziale: \"))\n",
    "anni = int(input(\"inserisci numero di anni da simulare: \"))\n",
    "tasso_natalita = float(input(\"inserisci tasso natalità: \"))\n",
    "tasso_mortalita = float(input(\"inserisci tasso mortalità: \"))\n",
    "\n",
    "for anno in range(anni):\n",
    "    nascite = (popolazione * tasso_natalita) / 100\n",
    "    morti = (popolazione * tasso_mortalita) / 100\n",
    "    popolazione += (nascite - morti)\n",
    "    print(f\"Anno {anno+1}: Popolazione = {int(popolazione)}\")\n"
   ]
  },
  {
   "cell_type": "code",
   "execution_count": 34,
   "id": "38497829",
   "metadata": {},
   "outputs": [
    {
     "name": "stdout",
     "output_type": "stream",
     "text": [
      "Oggi è il giorno: 08/11/2023 ore 11:34\n"
     ]
    }
   ],
   "source": [
    "import datetime\n",
    "today = datetime.datetime.today()\n",
    "print(f\"Oggi è il giorno: {today:%d/%m/%Y ore %H:%M}\")\n"
   ]
  },
  {
   "cell_type": "code",
   "execution_count": 35,
   "id": "88a99683",
   "metadata": {},
   "outputs": [],
   "source": [
    "import math\n",
    "\n",
    "def calcola_area_cerchio(raggio):\n",
    "    return math.pi * raggio**2\n",
    "\n",
    "def calcola_area_rettangolo(base, altezza):\n",
    "    return base * altezza\n",
    "\n",
    "def calcola_area_triangolo(base, altezza):\n",
    "    return (base * altezza) / 2\n"
   ]
  },
  {
   "cell_type": "code",
   "execution_count": 36,
   "id": "c4d87830",
   "metadata": {},
   "outputs": [
    {
     "name": "stdout",
     "output_type": "stream",
     "text": [
      "Inserisci una parola: negro\n",
      "Gli anagrammi di 'negro' sono: ['negro', 'negor', 'nergo', 'nerog', 'neogr', 'neorg', 'ngero', 'ngeor', 'ngreo', 'ngroe', 'ngoer', 'ngore', 'nrego', 'nreog', 'nrgeo', 'nrgoe', 'nroeg', 'nroge', 'noegr', 'noerg', 'noger', 'nogre', 'noreg', 'norge', 'engro', 'engor', 'enrgo', 'enrog', 'enogr', 'enorg', 'egnro', 'egnor', 'egrno', 'egron', 'egonr', 'egorn', 'erngo', 'ernog', 'ergno', 'ergon', 'erong', 'erogn', 'eongr', 'eonrg', 'eognr', 'eogrn', 'eorng', 'eorgn', 'gnero', 'gneor', 'gnreo', 'gnroe', 'gnoer', 'gnore', 'genro', 'genor', 'gerno', 'geron', 'geonr', 'georn', 'grneo', 'grnoe', 'greno', 'greon', 'grone', 'groen', 'goner', 'gonre', 'goenr', 'goern', 'gorne', 'goren', 'rnego', 'rneog', 'rngeo', 'rngoe', 'rnoeg', 'rnoge', 'rengo', 'renog', 'regno', 'regon', 'reong', 'reogn', 'rgneo', 'rgnoe', 'rgeno', 'rgeon', 'rgone', 'rgoen', 'roneg', 'ronge', 'roeng', 'roegn', 'rogne', 'rogen', 'onegr', 'onerg', 'onger', 'ongre', 'onreg', 'onrge', 'oengr', 'oenrg', 'oegnr', 'oegrn', 'oerng', 'oergn', 'ogner', 'ognre', 'ogenr', 'ogern', 'ogrne', 'ogren', 'orneg', 'ornge', 'oreng', 'oregn', 'orgne', 'orgen']\n"
     ]
    }
   ],
   "source": [
    "from itertools import permutations\n",
    "\n",
    "def trova_anagrammi(parola):\n",
    "    return [''.join(p) for p in permutations(parola)]\n",
    "\n",
    "parola_input = input(\"Inserisci una parola: \").strip().lower()\n",
    "if len(parola_input) < 2:\n",
    "    print(\"Inserisci una parola con almeno 2 caratteri.\")\n",
    "else:\n",
    "    anagrammi = trova_anagrammi(parola_input)\n",
    "    print(f\"Gli anagrammi di '{parola_input}' sono:\", anagrammi)\n"
   ]
  },
  {
   "cell_type": "code",
   "execution_count": 45,
   "id": "5a3b63ff",
   "metadata": {},
   "outputs": [
    {
     "name": "stdout",
     "output_type": "stream",
     "text": [
      "Inserisci l'importo da convertire: 500\n",
      "Inserisci la valuta di partenza: euro\n",
      "Inserisci la valuta di destinazione: yen\n",
      "L'importo convertito è: 64947.05882352942\n"
     ]
    }
   ],
   "source": [
    "tassi_di_cambio = {\n",
    "    \"dollari\": 1.0,\n",
    "    \"euro\": 0.85,\n",
    "    \"yen\": 110.41,\n",
    "    # Aggiungi altre valute e tassi di cambio se necessario\n",
    "}\n",
    "\n",
    "importo = float(input(\"Inserisci l'importo da convertire: \"))\n",
    "valuta_di_partenza = input(\"Inserisci la valuta di partenza: \").lower()\n",
    "valuta_destinazione = input(\"Inserisci la valuta di destinazione: \").lower()\n",
    "\n",
    "if valuta_di_partenza in tassi_di_cambio and valuta_destinazione in tassi_di_cambio:\n",
    "    tasso_di_cambio = tassi_di_cambio[valuta_destinazione] / tassi_di_cambio[valuta_di_partenza]\n",
    "    importo_convertito = importo * tasso_di_cambio\n",
    "    print(f\"L'importo convertito è: {importo_convertito}\")\n",
    "else:\n",
    "    print(\"Una delle valute non è supportata.\")\n"
   ]
  },
  {
   "cell_type": "code",
   "execution_count": 46,
   "id": "834a5be0",
   "metadata": {},
   "outputs": [
    {
     "name": "stdout",
     "output_type": "stream",
     "text": [
      "Benvenuto alla calcolatrice BMI\n",
      "Inserisci il peso in chilogrammi: 80\n",
      "Inserisci la tua altezza in metri: 1.83\n",
      "Il tuo BMI è [23.89], sei classificato come: 'None'.\n"
     ]
    }
   ],
   "source": [
    "# funzione per il calcolo del BMI\n",
    "def calcola_bmi(peso, altezza):\n",
    "    return peso / (altezza ** 2)\n",
    "\n",
    "# funzione per la valutazione del BMI\n",
    "def valuta_bmi(bmi):\n",
    "    # La funzione di valutazione non è completa, aggiungere i criteri di valutazione qui\n",
    "    pass\n",
    "\n",
    "# funzione principale\n",
    "def main():\n",
    "    print(\"Benvenuto alla calcolatrice BMI\")\n",
    "    peso = float(input(\"Inserisci il peso in chilogrammi: \"))\n",
    "    altezza = float(input(\"Inserisci la tua altezza in metri: \"))\n",
    "    bmi = calcola_bmi(peso, altezza)\n",
    "    valutazione = valuta_bmi(bmi)  # La funzione valuta_bmi deve essere definita correttamente\n",
    "    print(f\"Il tuo BMI è [{bmi:.2f}], sei classificato come: '{valutazione}'.\")\n",
    "\n",
    "if __name__ == \"__main__\":\n",
    "    main()\n"
   ]
  },
  {
   "cell_type": "code",
   "execution_count": 47,
   "id": "0cc0e999",
   "metadata": {},
   "outputs": [],
   "source": [
    "# funzione per conversione di metri in piedi\n",
    "def metri_a_piedi(metri):\n",
    "    return metri * 3.28084\n"
   ]
  },
  {
   "cell_type": "code",
   "execution_count": 48,
   "id": "056a770b",
   "metadata": {},
   "outputs": [],
   "source": [
    "# dizionario delle calorie per cibo\n",
    "cibo_calorie = {\n",
    "    \"pizza\": 285,\n",
    "    \"hamburger\": 250,\n",
    "    \"insalata\": 100,\n",
    "    \"pollo arrosto\": 335,\n",
    "    \"yogurt\": 150\n",
    "}\n",
    "\n",
    "# funzione per calcolare le calorie\n",
    "def calorie_consumate(cibo, quantita):\n",
    "    if cibo not in cibo_calorie:\n",
    "        print(\"Cibo non presente nel database.\")\n",
    "    else:\n",
    "        calorie_per_100g = cibo_calorie[cibo]\n",
    "        calorie_totali = calorie_per_100g * (quantita / 100)\n",
    "        return calorie_totali\n"
   ]
  },
  {
   "cell_type": "code",
   "execution_count": 49,
   "id": "60ee85ca",
   "metadata": {},
   "outputs": [
    {
     "name": "stdout",
     "output_type": "stream",
     "text": [
      "Personaggio fantasy generato:\n",
      "Specie: orco\n",
      "Classe: mago\n",
      "Arma: bacchetta\n",
      "Abilità: magia, forza\n"
     ]
    }
   ],
   "source": [
    "import random\n",
    "\n",
    "# Dizionari per speci, classi, armi e abilità - da completare con valori appropriati\n",
    "specie = [\"elfo\", \"nano\", \"umano\", \"orco\"]\n",
    "classi = [\"guerriero\", \"mago\", \"ladro\"]\n",
    "armi = [\"spada\", \"arco\", \"bacchetta\"]\n",
    "abilita = [\"furtività\", \"magia\", \"forza\"]\n",
    "\n",
    "# Funzione per generare un personaggio\n",
    "def crea_personaggio():\n",
    "    specie_scelta = random.choice(specie)\n",
    "    classe_scelta = random.choice(classi)\n",
    "    arma_scelta = random.choice(armi)\n",
    "    abilita_scelte = random.sample(abilita, random.randint(1, 3))\n",
    "    return {\n",
    "        \"specie\": specie_scelta,\n",
    "        \"classe\": classe_scelta,\n",
    "        \"arma\": arma_scelta,\n",
    "        \"abilità\": abilita_scelte\n",
    "    }\n",
    "\n",
    "# Funzione principale\n",
    "def main():\n",
    "    personaggio_generato = crea_personaggio()\n",
    "    print(\"Personaggio fantasy generato:\")\n",
    "    for chiave, valore in personaggio_generato.items():\n",
    "        if chiave == \"abilità\":\n",
    "            valore = ', '.join(valore)\n",
    "        print(f\"{chiave.capitalize()}: {valore}\")\n",
    "\n",
    "if __name__ == \"__main__\":\n",
    "    main()\n"
   ]
  },
  {
   "cell_type": "code",
   "execution_count": 50,
   "id": "bc376406",
   "metadata": {},
   "outputs": [
    {
     "name": "stdout",
     "output_type": "stream",
     "text": [
      "il oscuro cielo sussurra\n",
      "il oscuro mare sussurra\n",
      "il mare soleggiato terra\n"
     ]
    }
   ],
   "source": [
    "import random\n",
    "\n",
    "# Liste di parole predefinite per generazione di poesia\n",
    "aggettivi = [\"soleggiato\", \"oscuro\", \"luminoso\", \"triste\"]\n",
    "sostantivi = [\"mare\", \"cielo\", \"terra\", \"cuore\"]\n",
    "verbi = [\"canta\", \"urla\", \"sussurra\", \"piange\"]\n",
    "\n",
    "# Genera poesia casuale\n",
    "def genera_poesia():\n",
    "    verso1 = f\"il {random.choice(aggettivi)} {random.choice(sostantivi)} {random.choice(verbi)}\"\n",
    "    verso2 = f\"il {random.choice(aggettivi)} {random.choice(sostantivi)} {random.choice(verbi)}\"\n",
    "    verso3 = f\"il {random.choice(sostantivi)} {random.choice(aggettivi)} {random.choice(sostantivi)}\"\n",
    "    return f\"{verso1}\\n{verso2}\\n{verso3}\"\n",
    "\n",
    "print(genera_poesia())\n"
   ]
  },
  {
   "cell_type": "code",
   "execution_count": 51,
   "id": "0fad0dcf",
   "metadata": {},
   "outputs": [
    {
     "data": {
      "image/png": "[encoded data removed]",
      "text/plain": [
       "<Figure size 640x480 with 1 Axes>"
      ]
     },
     "metadata": {},
     "output_type": "display_data"
    },
    {
     "data": {
      "image/png": "[encoded data removed]",
      "text/plain": [
       "<Figure size 640x480 with 1 Axes>"
      ]
     },
     "metadata": {},
     "output_type": "display_data"
    }
   ],
   "source": [
    "import matplotlib.pyplot as plt\n",
    "\n",
    "# Grafico a barre per gli animali\n",
    "animali = ['elefanti', 'leoni', 'tigri', 'scimmie', 'zebre']\n",
    "numero_animali = [4, 2, 8, 15, 10]\n",
    "plt.bar(animali, numero_animali, color=\"lightblue\")\n",
    "plt.show()\n",
    "\n",
    "# Grafico delle temperature medie\n",
    "mesi = ['gennaio', 'febbraio']\n",
    "temperatura_media = [10, 12]\n",
    "plt.plot(mesi, temperatura_media)\n",
    "plt.title(\"Temperature Medie\")\n",
    "\n",
    "# Scatter plot per età e altezza\n",
    "eta = [14, 15, 16, 17, 18]\n",
    "altezza = [160, 165, 170, 175, 180]\n",
    "plt.scatter(eta, altezza, color='red', marker='o')\n",
    "plt.title(\"Altezza in funzione dell'età\")\n",
    "plt.show()\n"
   ]
  }
 ],
 "metadata": {
  "kernelspec": {
   "display_name": "Python 3 (ipykernel)",
   "language": "python",
   "name": "python3"
  },
  "language_info": {
   "codemirror_mode": {
    "name": "ipython",
    "version": 3
   },
   "file_extension": ".py",
   "mimetype": "text/x-python",
   "name": "python",
   "nbconvert_exporter": "python",
   "pygments_lexer": "ipython3",
   "version": "3.11.5"
  }
 },
 "nbformat": 4,
 "nbformat_minor": 5
}
